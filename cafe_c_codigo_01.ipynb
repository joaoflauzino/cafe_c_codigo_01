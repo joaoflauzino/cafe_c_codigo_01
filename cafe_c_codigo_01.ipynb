{
  "nbformat": 4,
  "nbformat_minor": 0,
  "metadata": {
    "colab": {
      "name": "cafe_c_codigo_01.ipynb",
      "provenance": [],
      "collapsed_sections": [],
      "toc_visible": true,
      "authorship_tag": "ABX9TyPC5ZPwQsg7K/hV3ebVDU24",
      "include_colab_link": true
    },
    "kernelspec": {
      "name": "python3",
      "display_name": "Python 3"
    },
    "language_info": {
      "name": "python"
    }
  },
  "cells": [
    {
      "cell_type": "markdown",
      "metadata": {
        "id": "view-in-github",
        "colab_type": "text"
      },
      "source": [
        "<a href=\"https://colab.research.google.com/github/joaoflauzino/cafe_c_codigo_01/blob/main/cafe_c_codigo_01.ipynb\" target=\"_parent\"><img src=\"https://colab.research.google.com/assets/colab-badge.svg\" alt=\"Open In Colab\"/></a>"
      ]
    },
    {
      "cell_type": "code",
      "metadata": {
        "colab": {
          "base_uri": "https://localhost:8080/"
        },
        "id": "adIbO6oOrwJ_",
        "outputId": "f220a506-93b1-450a-9574-ec88cd16fc13"
      },
      "source": [
        "!pip install pyspark"
      ],
      "execution_count": 176,
      "outputs": [
        {
          "output_type": "stream",
          "text": [
            "Requirement already satisfied: pyspark in /usr/local/lib/python3.7/dist-packages (3.1.1)\n",
            "Requirement already satisfied: py4j==0.10.9 in /usr/local/lib/python3.7/dist-packages (from pyspark) (0.10.9)\n"
          ],
          "name": "stdout"
        }
      ]
    },
    {
      "cell_type": "markdown",
      "metadata": {
        "id": "AhkyaEUtvsbA"
      },
      "source": [
        "# Bibliotecas"
      ]
    },
    {
      "cell_type": "code",
      "metadata": {
        "id": "dGLvImw3mrzH"
      },
      "source": [
        "from google.colab import drive\n",
        "from pyspark.sql import SparkSession\n",
        "from pyspark.sql import functions as F\n",
        "from pyspark.sql.types import *\n",
        "import seaborn as sns\n",
        "import matplotlib.pyplot as plt"
      ],
      "execution_count": 177,
      "outputs": []
    },
    {
      "cell_type": "code",
      "metadata": {
        "colab": {
          "base_uri": "https://localhost:8080/"
        },
        "id": "rPJuyQF7rWvr",
        "outputId": "0dd0846b-e570-4a9e-a8c6-2e75b7545074"
      },
      "source": [
        "drive.mount('/content/drive')"
      ],
      "execution_count": 178,
      "outputs": [
        {
          "output_type": "stream",
          "text": [
            "Drive already mounted at /content/drive; to attempt to forcibly remount, call drive.mount(\"/content/drive\", force_remount=True).\n"
          ],
          "name": "stdout"
        }
      ]
    },
    {
      "cell_type": "markdown",
      "metadata": {
        "id": "hnL6O3qVvv5F"
      },
      "source": [
        "# Criando sessão no spark"
      ]
    },
    {
      "cell_type": "code",
      "metadata": {
        "id": "6lvQ7UN8siVe"
      },
      "source": [
        "## Criando sessão\n",
        "spark = SparkSession.builder.appName(\"NBO\").getOrCreate()"
      ],
      "execution_count": 179,
      "outputs": []
    },
    {
      "cell_type": "markdown",
      "metadata": {
        "id": "fvCiXWSIvylN"
      },
      "source": [
        "# Leitura de dados"
      ]
    },
    {
      "cell_type": "code",
      "metadata": {
        "id": "kg9v66lfreJH"
      },
      "source": [
        "## Leitura de csv \n",
        "df = spark.read.csv('/content/drive/My Drive/Datasets/marketing_campaign.csv', sep = \";\", header=True)"
      ],
      "execution_count": 180,
      "outputs": []
    },
    {
      "cell_type": "markdown",
      "metadata": {
        "id": "s1gyHSqQwjJC"
      },
      "source": [
        "# Informações sobre a base de dados\n",
        "\n",
        "- AcceptedCmp1 - 1 if customer accepted the offer in the 1st campaign, 0 otherwise\n",
        "- AcceptedCmp2 - 1 if customer accepted the offer in the 2nd campaign, 0 otherwise\n",
        "- AcceptedCmp3 - 1 if customer accepted the offer in the 3rd campaign, 0 - otherwise\n",
        "- AcceptedCmp4 - 1 if customer accepted the offer in the 4th campaign, 0 otherwise\n",
        "- AcceptedCmp5 - 1 if customer accepted the offer in the 5th campaign, 0 otherwise\n",
        "- Response (target) - 1 if customer accepted the offer in the last campaign, 0 otherwise\n",
        "- Complain - 1 if customer complained in the last 2 years\n",
        "- DtCustomer - date of customer’s enrolment with the company\n",
        "- Education - customer’s level of education\n",
        "- Marital - customer’s marital status\n",
        "- Kidhome - number of small children in customer’s household\n",
        "- Teenhome - number of teenagers in customer’s household\n",
        "- Income - customer’s yearly household income\n",
        "- MntFishProducts - amount spent on fish products in the last 2 years\n",
        "- MntMeatProducts - amount spent on meat products in the last 2 years\n",
        "- MntFruits - amount spent on fruits products in the last 2 years\n",
        "- MntSweetProducts - amount spent on sweet products in the last 2 years\n",
        "- MntWines - amount spent on wine products in the last 2 years\n",
        "- MntGoldProds - amount spent on gold products in the last 2 years\n",
        "- NumDealsPurchases - number of purchases made with discount\n",
        "- NumCatalogPurchases - number of purchases made using catalogue\n",
        "- NumStorePurchases - number of purchases made directly in stores\n",
        "- NumWebPurchases - number of purchases made through company’s web site\n",
        "- NumWebVisitsMonth - number of visits to company’s web site in the last month\n",
        "- Recency - number of days since the last purchase"
      ]
    },
    {
      "cell_type": "markdown",
      "metadata": {
        "id": "Lcq7iAlMv9zf"
      },
      "source": [
        "# Perguntas sobre o negócio\n",
        "\n",
        "- Daqueles que são propensos a aceitar o produto, qual o nível de graduação mais presente? O nível de graduação difere daqueles que aceitam ou não uma oferta?\n",
        "\n",
        "- Daqueles que são propensos a aceitar o produto, qual o Estado Civil mais presente? O Estado Civil difere daqueles que aceitam ou não uma oferta?\n",
        "\n",
        "- Quanto mais recente, maior a chance dele aceitar a oferta?\n",
        "\n",
        "- Quanto maior a renda, maior a chance dele aceitar a oferta?\n",
        "\n",
        "- Existe alguma correlação entre renda e recência?\n",
        "\n",
        "- Pessoas mais velhas tendem a aceitar/recusar as ofertas? (criar campo com idade em anos)\n",
        "\n",
        "- A plataforma que o produto é oferecido impacta na aceitação das ofertas?\n",
        "\n",
        "- O número de crianças impacta na aceitação de ofertas?\n",
        "\n",
        "- O número de adolescentes impacta na aceitação de ofertas?\n",
        "- As campanhas são cumulativas ou independentes? Se for cumulativas, esses clientes reclamaram alguma vez nos últimos 2 anos?\n",
        "\n",
        "- Clientes mais antigos tendem a aceitar as ofertas? (criar campo com idade em anos)\n",
        "\n",
        "- Visitas no site da empresa tem correlação com a aceita/recusa das ofertas?\n",
        "\n",
        "- O número de compras realizada com desconto tem correlação com a aceita/recusa das ofertas?\n",
        "\n",
        "- A quantia gasta em produtos do tipo GOLD nos últimos 2 anos tem correlação em aceitar/recusar as ofertas?\n",
        "\n",
        "- Os clientes estão propensos de aceitar as ofertas em qual nível da campanha (1ª a 5ª)?\n",
        "\n",
        "- Nossas variaveis possuem distribuicao normal?\n",
        "\n",
        "- Existem outliers no nosso conjunto de dados?\n"
      ]
    },
    {
      "cell_type": "code",
      "metadata": {
        "colab": {
          "base_uri": "https://localhost:8080/"
        },
        "id": "DpxZewLKzs3v",
        "outputId": "8bbf3423-3e04-4b73-c854-65fc24ceca09"
      },
      "source": [
        "df.show(1, vertical = True)"
      ],
      "execution_count": 181,
      "outputs": [
        {
          "output_type": "stream",
          "text": [
            "-RECORD 0-------------------------\n",
            " ID                  | 5524       \n",
            " Year_Birth          | 1957       \n",
            " Education           | Graduation \n",
            " Marital_Status      | Single     \n",
            " Income              | 58138      \n",
            " Kidhome             | 0          \n",
            " Teenhome            | 0          \n",
            " Dt_Customer         | 2012-09-04 \n",
            " Recency             | 58         \n",
            " MntWines            | 635        \n",
            " MntFruits           | 88         \n",
            " MntMeatProducts     | 546        \n",
            " MntFishProducts     | 172        \n",
            " MntSweetProducts    | 88         \n",
            " MntGoldProds        | 88         \n",
            " NumDealsPurchases   | 3          \n",
            " NumWebPurchases     | 8          \n",
            " NumCatalogPurchases | 10         \n",
            " NumStorePurchases   | 4          \n",
            " NumWebVisitsMonth   | 7          \n",
            " AcceptedCmp3        | 0          \n",
            " AcceptedCmp4        | 0          \n",
            " AcceptedCmp5        | 0          \n",
            " AcceptedCmp1        | 0          \n",
            " AcceptedCmp2        | 0          \n",
            " Complain            | 0          \n",
            " Z_CostContact       | 3          \n",
            " Z_Revenue           | 11         \n",
            " Response            | 1          \n",
            "only showing top 1 row\n",
            "\n"
          ],
          "name": "stdout"
        }
      ]
    },
    {
      "cell_type": "markdown",
      "metadata": {
        "id": "1B0xYGXU3v42"
      },
      "source": [
        "# Tratamento da base"
      ]
    },
    {
      "cell_type": "code",
      "metadata": {
        "colab": {
          "base_uri": "https://localhost:8080/"
        },
        "id": "UjLyQPy-FznW",
        "outputId": "8e74a585-1620-47d4-ba0b-7082e55b6ec7"
      },
      "source": [
        "df.count()"
      ],
      "execution_count": 182,
      "outputs": [
        {
          "output_type": "execute_result",
          "data": {
            "text/plain": [
              "2240"
            ]
          },
          "metadata": {
            "tags": []
          },
          "execution_count": 182
        }
      ]
    },
    {
      "cell_type": "markdown",
      "metadata": {
        "id": "Yd6LbDSmFBgJ"
      },
      "source": [
        "# Verificar valores nulos"
      ]
    },
    {
      "cell_type": "code",
      "metadata": {
        "colab": {
          "base_uri": "https://localhost:8080/"
        },
        "id": "kVyweB4kE_9v",
        "outputId": "aebaf08a-4eb0-4b5b-df7c-376d075a7250"
      },
      "source": [
        "df.select(*(F.sum(F.col(c).isNull().cast(\"int\")).alias(c) for c in df.columns)).show(vertical = True)"
      ],
      "execution_count": 183,
      "outputs": [
        {
          "output_type": "stream",
          "text": [
            "-RECORD 0------------------\n",
            " ID                  | 0   \n",
            " Year_Birth          | 0   \n",
            " Education           | 0   \n",
            " Marital_Status      | 0   \n",
            " Income              | 24  \n",
            " Kidhome             | 0   \n",
            " Teenhome            | 0   \n",
            " Dt_Customer         | 0   \n",
            " Recency             | 0   \n",
            " MntWines            | 0   \n",
            " MntFruits           | 0   \n",
            " MntMeatProducts     | 0   \n",
            " MntFishProducts     | 0   \n",
            " MntSweetProducts    | 0   \n",
            " MntGoldProds        | 0   \n",
            " NumDealsPurchases   | 0   \n",
            " NumWebPurchases     | 0   \n",
            " NumCatalogPurchases | 0   \n",
            " NumStorePurchases   | 0   \n",
            " NumWebVisitsMonth   | 0   \n",
            " AcceptedCmp3        | 0   \n",
            " AcceptedCmp4        | 0   \n",
            " AcceptedCmp5        | 0   \n",
            " AcceptedCmp1        | 0   \n",
            " AcceptedCmp2        | 0   \n",
            " Complain            | 0   \n",
            " Z_CostContact       | 0   \n",
            " Z_Revenue           | 0   \n",
            " Response            | 0   \n",
            "\n"
          ],
          "name": "stdout"
        }
      ]
    },
    {
      "cell_type": "markdown",
      "metadata": {
        "id": "KGck0rQEGjmp"
      },
      "source": [
        "- Como são apenas 24 registros e existe um desvio padrão bastante significativo, a abordagem escolhida será excluir esses registros do dataset."
      ]
    },
    {
      "cell_type": "code",
      "metadata": {
        "colab": {
          "base_uri": "https://localhost:8080/"
        },
        "id": "OYQGWvzwF7VN",
        "outputId": "c3b05e8f-bead-4bb8-ad47-a00a3835dc0e"
      },
      "source": [
        "df.select('Income').summary().show(vertical = True)"
      ],
      "execution_count": 184,
      "outputs": [
        {
          "output_type": "stream",
          "text": [
            "-RECORD 0---------------------\n",
            " summary | count              \n",
            " Income  | 2216               \n",
            "-RECORD 1---------------------\n",
            " summary | mean               \n",
            " Income  | 52247.25135379061  \n",
            "-RECORD 2---------------------\n",
            " summary | stddev             \n",
            " Income  | 25173.076660901414 \n",
            "-RECORD 3---------------------\n",
            " summary | min                \n",
            " Income  | 101970             \n",
            "-RECORD 4---------------------\n",
            " summary | 25%                \n",
            " Income  | 35246.0            \n",
            "-RECORD 5---------------------\n",
            " summary | 50%                \n",
            " Income  | 51373.0            \n",
            "-RECORD 6---------------------\n",
            " summary | 75%                \n",
            " Income  | 68487.0            \n",
            "-RECORD 7---------------------\n",
            " summary | max                \n",
            " Income  | 98777              \n",
            "\n"
          ],
          "name": "stdout"
        }
      ]
    },
    {
      "cell_type": "code",
      "metadata": {
        "id": "QFAR2Eh0G2tM"
      },
      "source": [
        "df = df.na.drop()"
      ],
      "execution_count": 185,
      "outputs": []
    },
    {
      "cell_type": "code",
      "metadata": {
        "colab": {
          "base_uri": "https://localhost:8080/"
        },
        "id": "hu8frlGHHW4w",
        "outputId": "cac738ce-8d62-45f5-e6f1-d61e63be6311"
      },
      "source": [
        "df.count()"
      ],
      "execution_count": 186,
      "outputs": [
        {
          "output_type": "execute_result",
          "data": {
            "text/plain": [
              "2216"
            ]
          },
          "metadata": {
            "tags": []
          },
          "execution_count": 186
        }
      ]
    },
    {
      "cell_type": "markdown",
      "metadata": {
        "id": "xy4ghPuA4WzM"
      },
      "source": [
        "# Análise Exploratória\n",
        "\n",
        "1. Daqueles que são propensos a aceitar o produto, qual o nível de graduação mais presente? O nível de graduação difere daqueles que aceitam ou não uma oferta?"
      ]
    },
    {
      "cell_type": "code",
      "metadata": {
        "colab": {
          "base_uri": "https://localhost:8080/"
        },
        "id": "VfOieWOMHk31",
        "outputId": "c6a5de16-14aa-4470-e7fb-577d860e5f8c"
      },
      "source": [
        "df.select('AcceptedCmp1', 'AcceptedCmp2', 'AcceptedCmp3', 'AcceptedCmp4', 'AcceptedCmp5', 'Response').groupBy('Response').count().show()"
      ],
      "execution_count": 187,
      "outputs": [
        {
          "output_type": "stream",
          "text": [
            "+--------+-----+\n",
            "|Response|count|\n",
            "+--------+-----+\n",
            "|       0| 1883|\n",
            "|       1|  333|\n",
            "+--------+-----+\n",
            "\n"
          ],
          "name": "stdout"
        }
      ]
    },
    {
      "cell_type": "code",
      "metadata": {
        "colab": {
          "base_uri": "https://localhost:8080/"
        },
        "id": "TdGRXJqVI-0Z",
        "outputId": "f6d05df4-29f7-4b52-fa84-77ea0cb79476"
      },
      "source": [
        "df.filter( (df.AcceptedCmp1 == 0)  &  (df.AcceptedCmp2 == 0) & (df.AcceptedCmp3 == 0) & (df.AcceptedCmp4 == 0) & (df.AcceptedCmp5 == 0) & (df.Response == 1) ).count()"
      ],
      "execution_count": 188,
      "outputs": [
        {
          "output_type": "execute_result",
          "data": {
            "text/plain": [
              "146"
            ]
          },
          "metadata": {
            "tags": []
          },
          "execution_count": 188
        }
      ]
    },
    {
      "cell_type": "markdown",
      "metadata": {
        "id": "0akIdB5NKlqM"
      },
      "source": [
        "* Vamos criar nossa própria target, já que não estamos vendo muito sentido na coluna Response"
      ]
    },
    {
      "cell_type": "code",
      "metadata": {
        "id": "Ez_yx8jaLJit"
      },
      "source": [
        "df = df.withColumn('Target', \n",
        "                        F.when(\n",
        "                            (df.AcceptedCmp1 > 0) | (df.AcceptedCmp2 > 0) | (df.AcceptedCmp3 > 0) | (df.AcceptedCmp4 > 0) | (df.AcceptedCmp5 > 0) , 1\n",
        "                        ).otherwise(0)\n",
        "                   )"
      ],
      "execution_count": 189,
      "outputs": []
    },
    {
      "cell_type": "code",
      "metadata": {
        "colab": {
          "base_uri": "https://localhost:8080/"
        },
        "id": "-kEjeZXiL4uV",
        "outputId": "eb869853-148c-489a-cc49-56ba3dd50165"
      },
      "source": [
        "df.filter(df.Target == 1).select('AcceptedCmp1', 'AcceptedCmp2', 'AcceptedCmp3', 'AcceptedCmp4', 'AcceptedCmp5', 'Target').show()"
      ],
      "execution_count": 190,
      "outputs": [
        {
          "output_type": "stream",
          "text": [
            "+------------+------------+------------+------------+------------+------+\n",
            "|AcceptedCmp1|AcceptedCmp2|AcceptedCmp3|AcceptedCmp4|AcceptedCmp5|Target|\n",
            "+------------+------------+------------+------------+------------+------+\n",
            "|           0|           0|           1|           0|           0|     1|\n",
            "|           1|           0|           0|           0|           1|     1|\n",
            "|           1|           0|           0|           0|           0|     1|\n",
            "|           0|           0|           0|           1|           0|     1|\n",
            "|           0|           0|           0|           0|           1|     1|\n",
            "|           0|           0|           0|           1|           0|     1|\n",
            "|           0|           0|           1|           0|           0|     1|\n",
            "|           1|           0|           1|           0|           0|     1|\n",
            "|           0|           0|           0|           0|           1|     1|\n",
            "|           0|           0|           0|           1|           1|     1|\n",
            "|           1|           0|           1|           0|           0|     1|\n",
            "|           0|           0|           0|           1|           0|     1|\n",
            "|           0|           0|           1|           0|           0|     1|\n",
            "|           0|           0|           1|           0|           0|     1|\n",
            "|           0|           0|           0|           1|           0|     1|\n",
            "|           1|           0|           0|           1|           0|     1|\n",
            "|           0|           0|           0|           0|           1|     1|\n",
            "|           0|           0|           0|           1|           0|     1|\n",
            "|           1|           0|           0|           0|           0|     1|\n",
            "|           0|           0|           0|           1|           0|     1|\n",
            "+------------+------------+------------+------------+------------+------+\n",
            "only showing top 20 rows\n",
            "\n"
          ],
          "name": "stdout"
        }
      ]
    },
    {
      "cell_type": "code",
      "metadata": {
        "colab": {
          "base_uri": "https://localhost:8080/"
        },
        "id": "Az2OoFZGMkNF",
        "outputId": "9634460e-4b2f-407e-b5ff-3152972bacce"
      },
      "source": [
        "df.groupBy('Target').count().show()"
      ],
      "execution_count": 191,
      "outputs": [
        {
          "output_type": "stream",
          "text": [
            "+------+-----+\n",
            "|Target|count|\n",
            "+------+-----+\n",
            "|     1|  459|\n",
            "|     0| 1757|\n",
            "+------+-----+\n",
            "\n"
          ],
          "name": "stdout"
        }
      ]
    },
    {
      "cell_type": "code",
      "metadata": {
        "id": "bUNepmStMy9_"
      },
      "source": [
        "df_1_hipotese = df.groupBy('Education', 'Target').count().toPandas()"
      ],
      "execution_count": 192,
      "outputs": []
    },
    {
      "cell_type": "code",
      "metadata": {
        "colab": {
          "base_uri": "https://localhost:8080/",
          "height": 195
        },
        "id": "WNlbVLmJR5pF",
        "outputId": "347809c8-f882-47d5-ed69-96828eace54f"
      },
      "source": [
        "df_1_hipotese.head()"
      ],
      "execution_count": 193,
      "outputs": [
        {
          "output_type": "execute_result",
          "data": {
            "text/html": [
              "<div>\n",
              "<style scoped>\n",
              "    .dataframe tbody tr th:only-of-type {\n",
              "        vertical-align: middle;\n",
              "    }\n",
              "\n",
              "    .dataframe tbody tr th {\n",
              "        vertical-align: top;\n",
              "    }\n",
              "\n",
              "    .dataframe thead th {\n",
              "        text-align: right;\n",
              "    }\n",
              "</style>\n",
              "<table border=\"1\" class=\"dataframe\">\n",
              "  <thead>\n",
              "    <tr style=\"text-align: right;\">\n",
              "      <th></th>\n",
              "      <th>Education</th>\n",
              "      <th>Target</th>\n",
              "      <th>count</th>\n",
              "    </tr>\n",
              "  </thead>\n",
              "  <tbody>\n",
              "    <tr>\n",
              "      <th>0</th>\n",
              "      <td>Basic</td>\n",
              "      <td>1</td>\n",
              "      <td>6</td>\n",
              "    </tr>\n",
              "    <tr>\n",
              "      <th>1</th>\n",
              "      <td>2n Cycle</td>\n",
              "      <td>0</td>\n",
              "      <td>163</td>\n",
              "    </tr>\n",
              "    <tr>\n",
              "      <th>2</th>\n",
              "      <td>Master</td>\n",
              "      <td>0</td>\n",
              "      <td>291</td>\n",
              "    </tr>\n",
              "    <tr>\n",
              "      <th>3</th>\n",
              "      <td>Graduation</td>\n",
              "      <td>1</td>\n",
              "      <td>228</td>\n",
              "    </tr>\n",
              "    <tr>\n",
              "      <th>4</th>\n",
              "      <td>Basic</td>\n",
              "      <td>0</td>\n",
              "      <td>48</td>\n",
              "    </tr>\n",
              "  </tbody>\n",
              "</table>\n",
              "</div>"
            ],
            "text/plain": [
              "    Education  Target  count\n",
              "0       Basic       1      6\n",
              "1    2n Cycle       0    163\n",
              "2      Master       0    291\n",
              "3  Graduation       1    228\n",
              "4       Basic       0     48"
            ]
          },
          "metadata": {
            "tags": []
          },
          "execution_count": 193
        }
      ]
    },
    {
      "cell_type": "code",
      "metadata": {
        "colab": {
          "base_uri": "https://localhost:8080/",
          "height": 296
        },
        "id": "pQZgBHqKPK4z",
        "outputId": "d8f39543-327c-41a5-9477-7616445a010c"
      },
      "source": [
        "plt.figure()\n",
        "\n",
        "sns.barplot(data = df_1_hipotese, x = 'Education', y = 'count', hue = 'Target')"
      ],
      "execution_count": 194,
      "outputs": [
        {
          "output_type": "execute_result",
          "data": {
            "text/plain": [
              "<matplotlib.axes._subplots.AxesSubplot at 0x7fb42e188f50>"
            ]
          },
          "metadata": {
            "tags": []
          },
          "execution_count": 194
        },
        {
          "output_type": "display_data",
          "data": {
            "image/png": "[encoded data removed]",
            "text/plain": [
              "<Figure size 432x288 with 1 Axes>"
            ]
          },
          "metadata": {
            "tags": [],
            "needs_background": "light"
          }
        }
      ]
    },
    {
      "cell_type": "markdown",
      "metadata": {
        "id": "zPPNwoFHSLgm"
      },
      "source": [
        "- A priori, não existe nenhuma divergência significativa (variável Education) na proporção daqueles que aceitaram ou recusaram uma oferta\n",
        "\n",
        "\n",
        "2. Daqueles que são propensos a aceitar o produto, qual o Estado Civil mais presente? O Estado Civil difere daqueles que aceitam ou não uma oferta?"
      ]
    },
    {
      "cell_type": "code",
      "metadata": {
        "id": "mjWezYgHShPY"
      },
      "source": [
        "df_2_hipotese = df.groupBy('Marital_Status', 'Target').count().toPandas()"
      ],
      "execution_count": 195,
      "outputs": []
    },
    {
      "cell_type": "code",
      "metadata": {
        "colab": {
          "base_uri": "https://localhost:8080/",
          "height": 298
        },
        "id": "0IWW4VWkS8TX",
        "outputId": "76453d1a-0218-4a37-8d7c-a45661943842"
      },
      "source": [
        "sns.barplot(data = df_2_hipotese, x = 'Marital_Status', y = 'count', hue = 'Target')"
      ],
      "execution_count": 196,
      "outputs": [
        {
          "output_type": "execute_result",
          "data": {
            "text/plain": [
              "<matplotlib.axes._subplots.AxesSubplot at 0x7fb42dcbe490>"
            ]
          },
          "metadata": {
            "tags": []
          },
          "execution_count": 196
        },
        {
          "output_type": "display_data",
          "data": {
            "image/png": "[encoded data removed]",
            "text/plain": [
              "<Figure size 432x288 with 1 Axes>"
            ]
          },
          "metadata": {
            "tags": [],
            "needs_background": "light"
          }
        }
      ]
    },
    {
      "cell_type": "markdown",
      "metadata": {
        "id": "sXnQqlsbTGyl"
      },
      "source": [
        "- O Estado Civil também aparenta não conter uma diferença significativa para distinguir quem aceita ou recusa uma oferta\n",
        "\n",
        "3. Quanto mais recente, maior a chance dele aceitar a oferta?"
      ]
    },
    {
      "cell_type": "code",
      "metadata": {
        "id": "W0M5hFqkUwFn"
      },
      "source": [
        "df = df.withColumn('Age_Company', \n",
        "        F.floor(\n",
        "             F.datediff(F.current_date(), F.to_date(F.col('Dt_Customer'), 'yyyy-mm-dd')))\n",
        "              )"
      ],
      "execution_count": 197,
      "outputs": []
    },
    {
      "cell_type": "code",
      "metadata": {
        "colab": {
          "base_uri": "https://localhost:8080/"
        },
        "id": "XafOjq5nW5-a",
        "outputId": "4e76a8c1-1608-4bfd-fb30-e32712bc53c5"
      },
      "source": [
        "df.select( F.max(F.col('Dt_Customer')), F.min(F.col('Dt_Customer')) ).show()"
      ],
      "execution_count": 198,
      "outputs": [
        {
          "output_type": "stream",
          "text": [
            "+----------------+----------------+\n",
            "|max(Dt_Customer)|min(Dt_Customer)|\n",
            "+----------------+----------------+\n",
            "|      2014-06-29|      2012-07-30|\n",
            "+----------------+----------------+\n",
            "\n"
          ],
          "name": "stdout"
        }
      ]
    },
    {
      "cell_type": "code",
      "metadata": {
        "colab": {
          "base_uri": "https://localhost:8080/"
        },
        "id": "jrcjmHGQX3tV",
        "outputId": "75f651af-18fd-44b2-e7cc-7a31c1a62012"
      },
      "source": [
        "df.agg({\"Age_Company\": \"max\"}).show()"
      ],
      "execution_count": 199,
      "outputs": [
        {
          "output_type": "stream",
          "text": [
            "+----------------+\n",
            "|max(Age_Company)|\n",
            "+----------------+\n",
            "|            3425|\n",
            "+----------------+\n",
            "\n"
          ],
          "name": "stdout"
        }
      ]
    },
    {
      "cell_type": "code",
      "metadata": {
        "colab": {
          "base_uri": "https://localhost:8080/"
        },
        "id": "75VuqzegXwQz",
        "outputId": "d451010d-2ada-4bcf-9cbd-6cda9c3ed942"
      },
      "source": [
        "df.agg({\"Age_Company\": \"min\"}).show()"
      ],
      "execution_count": 200,
      "outputs": [
        {
          "output_type": "stream",
          "text": [
            "+----------------+\n",
            "|min(Age_Company)|\n",
            "+----------------+\n",
            "|            2664|\n",
            "+----------------+\n",
            "\n"
          ],
          "name": "stdout"
        }
      ]
    },
    {
      "cell_type": "code",
      "metadata": {
        "id": "aVJ219tClJxP"
      },
      "source": [
        "intervalo = (3424-2663)/3"
      ],
      "execution_count": 201,
      "outputs": []
    },
    {
      "cell_type": "code",
      "metadata": {
        "id": "dSTqem9pVt4t"
      },
      "source": [
        "df = df.withColumn('Faixas', F.when(df.Age_Company <= 2663 + intervalo, \"A\") \\\n",
        "                         .when( (df.Age_Company > 2663 + intervalo) & (df.Age_Company <= 2663 + (intervalo*2)), \"B\") \\\n",
        "                         .otherwise(\"C\")\n",
        "              )"
      ],
      "execution_count": 202,
      "outputs": []
    },
    {
      "cell_type": "code",
      "metadata": {
        "id": "1lnMILb-k5Fg"
      },
      "source": [
        "soma_B = df.groupBy('Faixas', 'Target').count().groupBy('Faixas').agg({'count': 'sum'}).collect()[0][1]\n",
        "soma_C = df.groupBy('Faixas', 'Target').count().groupBy('Faixas').agg({'count': 'sum'}).collect()[1][1]\n",
        "soma_A = df.groupBy('Faixas', 'Target').count().groupBy('Faixas').agg({'count': 'sum'}).collect()[2][1]"
      ],
      "execution_count": 203,
      "outputs": []
    },
    {
      "cell_type": "code",
      "metadata": {
        "id": "RCdbOaTowpW3"
      },
      "source": [
        "df_faixas = df.groupBy('Faixas', 'Target').count() \\\n",
        "                              .withColumn('SOMA_B', F.lit(soma_B)) \\\n",
        "                              .withColumn('SOMA_C', F.lit(soma_C)) \\\n",
        "                              .withColumn('SOMA_A', F.lit(soma_A)) \\\n",
        "                              .withColumn('PCT', \n",
        "                                          \n",
        "                                          F.when(df.Faixas == 'A', (F.col('count') / F.col('SOMA_A')) * 100 ) \\\n",
        "                                           .when(df.Faixas == 'B', (F.col('count') / F.col('SOMA_B')) * 100 ) \\\n",
        "                                           .when(df.Faixas == 'C', (F.col('count') / F.col('SOMA_C')) * 100 ) \n",
        "                                          \n",
        "                                          ).orderBy(F.col('Faixas').asc()).toPandas()"
      ],
      "execution_count": 204,
      "outputs": []
    },
    {
      "cell_type": "code",
      "metadata": {
        "colab": {
          "base_uri": "https://localhost:8080/",
          "height": 606
        },
        "id": "RrUy8e_7nqv0",
        "outputId": "880cf938-4275-4f2f-a0c0-ee34be646b54"
      },
      "source": [
        "fig, axs = plt.subplots(ncols=2, figsize = (10,10))\n",
        "\n",
        "sns.barplot(data = df_faixas, x = 'Faixas', y = 'PCT', hue = 'Target', ax = axs[0])\n",
        "sns.barplot(data = df_faixas, x = 'Faixas', y = 'count', hue = 'Target', ax = axs[1])\n",
        "\n",
        "plt.show()"
      ],
      "execution_count": 205,
      "outputs": [
        {
          "output_type": "display_data",
          "data": {
            "image/png": "[encoded data removed]",
            "text/plain": [
              "<Figure size 720x720 with 2 Axes>"
            ]
          },
          "metadata": {
            "tags": [],
            "needs_background": "light"
          }
        }
      ]
    },
    {
      "cell_type": "markdown",
      "metadata": {
        "id": "hOPK5kt21EEi"
      },
      "source": [
        "- A classe A apresenta uma proporção de aceitação maior do que B (cerca de 20%). Já a classe C apresneta uma aceitação maior do que B (cerca de 10%)"
      ]
    },
    {
      "cell_type": "markdown",
      "metadata": {
        "id": "hfemJ6yQ2NdO"
      },
      "source": [
        "4- Quanto maior a renda, maior a chance dele aceitar a oferta?"
      ]
    },
    {
      "cell_type": "code",
      "metadata": {
        "colab": {
          "base_uri": "https://localhost:8080/"
        },
        "id": "6bWVc6dG3FR1",
        "outputId": "6e904adf-98a0-4dba-dff6-66f1f81518f8"
      },
      "source": [
        "df.select(F.col('Income').cast(FloatType())).describe().show()"
      ],
      "execution_count": 206,
      "outputs": [
        {
          "output_type": "stream",
          "text": [
            "+-------+------------------+\n",
            "|summary|            Income|\n",
            "+-------+------------------+\n",
            "|  count|              2216|\n",
            "|   mean| 52247.25135379061|\n",
            "| stddev|25173.076660901414|\n",
            "|    min|            1730.0|\n",
            "|    max|          666666.0|\n",
            "+-------+------------------+\n",
            "\n"
          ],
          "name": "stdout"
        }
      ]
    },
    {
      "cell_type": "code",
      "metadata": {
        "colab": {
          "base_uri": "https://localhost:8080/",
          "height": 282
        },
        "id": "_EoAKOC82Jzz",
        "outputId": "a68458a5-e74e-42ad-ecd8-28e9c6b9951b"
      },
      "source": [
        "df.select('Income').toPandas()['Income'].astype(float).hist(bins = 100)"
      ],
      "execution_count": 209,
      "outputs": [
        {
          "output_type": "execute_result",
          "data": {
            "text/plain": [
              "<matplotlib.axes._subplots.AxesSubplot at 0x7fb42df92d90>"
            ]
          },
          "metadata": {
            "tags": []
          },
          "execution_count": 209
        },
        {
          "output_type": "display_data",
          "data": {
            "image/png": "[encoded data removed]",
            "text/plain": [
              "<Figure size 432x288 with 1 Axes>"
            ]
          },
          "metadata": {
            "tags": [],
            "needs_background": "light"
          }
        }
      ]
    },
    {
      "cell_type": "code",
      "metadata": {
        "id": "t1rxmM7P4lQ4"
      },
      "source": [
        "media = df.agg({\"Income\": \"mean\"}).collect()[0][0]\n",
        "desvio = df.agg({\"Income\": \"stddev\"}).collect()[0][0]"
      ],
      "execution_count": 210,
      "outputs": []
    },
    {
      "cell_type": "code",
      "metadata": {
        "id": "xqsz8Q-_44eZ"
      },
      "source": [
        "df = df.withColumn('Media', F.lit(media)) \\\n",
        "       .withColumn('Desvio', F.lit(desvio))"
      ],
      "execution_count": 211,
      "outputs": []
    },
    {
      "cell_type": "code",
      "metadata": {
        "id": "EqHP-hWo5PnZ"
      },
      "source": [
        "df = df.withColumn('Outlier', F.when(df.Income > df.Media + 2 * df.Desvio, 1) \\\n",
        "                          .when(df.Income < df.Media - 2 * df.Desvio, 1) \\\n",
        "                          .otherwise(0)\n",
        "              )"
      ],
      "execution_count": 212,
      "outputs": []
    },
    {
      "cell_type": "code",
      "metadata": {
        "id": "wWISj4hS6Heo"
      },
      "source": [
        "df_sem_outlier = df.filter(df.Outlier == 0)"
      ],
      "execution_count": 258,
      "outputs": []
    },
    {
      "cell_type": "code",
      "metadata": {
        "colab": {
          "base_uri": "https://localhost:8080/"
        },
        "id": "dEdRaFZ-6UNe",
        "outputId": "6a296e4f-3046-47d1-94c9-24caa3242d69"
      },
      "source": [
        "df_sem_outlier.show(1)"
      ],
      "execution_count": 259,
      "outputs": [
        {
          "output_type": "stream",
          "text": [
            "+----+----------+----------+--------------+------+-------+--------+-----------+-------+--------+---------+---------------+---------------+----------------+------------+-----------------+---------------+-------------------+-----------------+-----------------+------------+------------+------------+------------+------------+--------+-------------+---------+--------+------+-----------+------+-----------------+------------------+-------+-------------+\n",
            "|  ID|Year_Birth| Education|Marital_Status|Income|Kidhome|Teenhome|Dt_Customer|Recency|MntWines|MntFruits|MntMeatProducts|MntFishProducts|MntSweetProducts|MntGoldProds|NumDealsPurchases|NumWebPurchases|NumCatalogPurchases|NumStorePurchases|NumWebVisitsMonth|AcceptedCmp3|AcceptedCmp4|AcceptedCmp5|AcceptedCmp1|AcceptedCmp2|Complain|Z_CostContact|Z_Revenue|Response|Target|Age_Company|Faixas|            Media|            Desvio|Outlier|Faixas_Income|\n",
            "+----+----------+----------+--------------+------+-------+--------+-----------+-------+--------+---------+---------------+---------------+----------------+------------+-----------------+---------------+-------------------+-----------------+-----------------+------------+------------+------------+------------+------------+--------+-------------+---------+--------+------+-----------+------+-----------------+------------------+-------+-------------+\n",
            "|5524|      1957|Graduation|        Single| 58138|      0|       0| 2012-09-04|     58|     635|       88|            546|            172|              88|          88|                3|              8|                 10|                4|                7|           0|           0|           0|           0|           0|       0|            3|       11|       1|     0|       3422|     C|52247.25135379061|25173.076660901414|      0|            E|\n",
            "+----+----------+----------+--------------+------+-------+--------+-----------+-------+--------+---------+---------------+---------------+----------------+------------+-----------------+---------------+-------------------+-----------------+-----------------+------------+------------+------------+------------+------------+--------+-------------+---------+--------+------+-----------+------+-----------------+------------------+-------+-------------+\n",
            "only showing top 1 row\n",
            "\n"
          ],
          "name": "stdout"
        }
      ]
    },
    {
      "cell_type": "code",
      "metadata": {
        "colab": {
          "base_uri": "https://localhost:8080/",
          "height": 282
        },
        "id": "qXlzcydC6Xxd",
        "outputId": "90a7828d-5601-46bd-ef93-5755efd199cb"
      },
      "source": [
        "df_sem_outlier.select('Income').toPandas()['Income'].astype(float).hist(bins = 100)"
      ],
      "execution_count": 260,
      "outputs": [
        {
          "output_type": "execute_result",
          "data": {
            "text/plain": [
              "<matplotlib.axes._subplots.AxesSubplot at 0x7fb42d573a10>"
            ]
          },
          "metadata": {
            "tags": []
          },
          "execution_count": 260
        },
        {
          "output_type": "display_data",
          "data": {
            "image/png": "[encoded data removed]",
            "text/plain": [
              "<Figure size 432x288 with 1 Axes>"
            ]
          },
          "metadata": {
            "tags": [],
            "needs_background": "light"
          }
        }
      ]
    },
    {
      "cell_type": "code",
      "metadata": {
        "colab": {
          "base_uri": "https://localhost:8080/"
        },
        "id": "x7lVC2Tf6oTS",
        "outputId": "dccef667-5e05-4dfb-aa70-88186a45e1e7"
      },
      "source": [
        "df_sem_outlier.select(F.col('Income').cast(FloatType())).describe().show()"
      ],
      "execution_count": 261,
      "outputs": [
        {
          "output_type": "stream",
          "text": [
            "+-------+------------------+\n",
            "|summary|            Income|\n",
            "+-------+------------------+\n",
            "|  count|              2204|\n",
            "|   mean| 51580.51088929219|\n",
            "| stddev|20601.944399868164|\n",
            "|    min|            2447.0|\n",
            "|    max|          102160.0|\n",
            "+-------+------------------+\n",
            "\n"
          ],
          "name": "stdout"
        }
      ]
    },
    {
      "cell_type": "code",
      "metadata": {
        "id": "ZRbT_23l8rD_"
      },
      "source": [
        "df_sem_outlier = df_sem_outlier.select('*', F.col('Income').cast(FloatType()).alias('Income_cast')).drop('Income').withColumnRenamed('Income_cast', 'Income')"
      ],
      "execution_count": 268,
      "outputs": []
    },
    {
      "cell_type": "code",
      "metadata": {
        "id": "dnHJcokI69wY"
      },
      "source": [
        "intervalo = (102160 - 2447) / 5"
      ],
      "execution_count": 255,
      "outputs": []
    },
    {
      "cell_type": "code",
      "metadata": {
        "colab": {
          "base_uri": "https://localhost:8080/"
        },
        "id": "bqMb2Wee-d1Z",
        "outputId": "b273666d-329b-4a23-eb8c-23d03467bdc9"
      },
      "source": [
        "intervalo"
      ],
      "execution_count": 266,
      "outputs": [
        {
          "output_type": "execute_result",
          "data": {
            "text/plain": [
              "19942.6"
            ]
          },
          "metadata": {
            "tags": []
          },
          "execution_count": 266
        }
      ]
    },
    {
      "cell_type": "code",
      "metadata": {
        "id": "LtePQdzu7XZR"
      },
      "source": [
        "df_sem_outlier = df_sem_outlier.withColumn('Faixas_Income', F.when(df_sem_outlier.Income <= (2447 + intervalo), \"A\") \\\n",
        "                         .when( (df_sem_outlier.Income > (2447 + intervalo)) & (df_sem_outlier.Income <= (2447 + (intervalo*2))), \"B\") \\\n",
        "                         .when( (df_sem_outlier.Income > (2447 + (intervalo*2))) & (df_sem_outlier.Income <= (2447 + (intervalo*3))), \"C\") \\\n",
        "                         .when( (df_sem_outlier.Income > (2447 + (intervalo*3))) & (df_sem_outlier.Income <= (2447 + (intervalo*4))), \"D\") \\\n",
        "                         .otherwise(\"E\")\n",
        "              )"
      ],
      "execution_count": 275,
      "outputs": []
    },
    {
      "cell_type": "code",
      "metadata": {
        "colab": {
          "base_uri": "https://localhost:8080/"
        },
        "id": "Dgjn75FV7zzj",
        "outputId": "81ca6fa7-8377-4247-b072-f6d209d02d81"
      },
      "source": [
        "df_sem_outlier.groupBy('Faixas_Income').count().show()"
      ],
      "execution_count": 276,
      "outputs": [
        {
          "output_type": "stream",
          "text": [
            "+-------------+-----+\n",
            "|Faixas_Income|count|\n",
            "+-------------+-----+\n",
            "|            E|  144|\n",
            "|            B|  638|\n",
            "|            D|  615|\n",
            "|            C|  637|\n",
            "|            A|  170|\n",
            "+-------------+-----+\n",
            "\n"
          ],
          "name": "stdout"
        }
      ]
    },
    {
      "cell_type": "markdown",
      "metadata": {
        "id": "iqaDjdWS4g6w"
      },
      "source": [
        "# Modelagem"
      ]
    },
    {
      "cell_type": "markdown",
      "metadata": {
        "id": "T_O1-qAe4qkw"
      },
      "source": [
        "# Avaliação do modelo"
      ]
    }
  ]
}