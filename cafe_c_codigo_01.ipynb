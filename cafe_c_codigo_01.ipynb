{
  "nbformat": 4,
  "nbformat_minor": 0,
  "metadata": {
    "colab": {
      "name": "cafe_c_codigo_01.ipynb",
      "provenance": [],
      "authorship_tag": "ABX9TyNcAPDL+FNSAp+7I54ditmZ",
      "include_colab_link": true
    },
    "kernelspec": {
      "name": "python3",
      "display_name": "Python 3"
    },
    "language_info": {
      "name": "python"
    }
  },
  "cells": [
    {
      "cell_type": "markdown",
      "metadata": {
        "id": "view-in-github",
        "colab_type": "text"
      },
      "source": [
        "<a href=\"https://colab.research.google.com/github/joaoflauzino/cafe_c_codigo_01/blob/main/cafe_c_codigo_01.ipynb\" target=\"_parent\"><img src=\"https://colab.research.google.com/assets/colab-badge.svg\" alt=\"Open In Colab\"/></a>"
      ]
    },
    {
      "cell_type": "code",
      "metadata": {
        "colab": {
          "base_uri": "https://localhost:8080/"
        },
        "id": "adIbO6oOrwJ_",
        "outputId": "98a0d4d1-e474-4f91-d177-dcdb2068e56e"
      },
      "source": [
        "!pip install pyspark"
      ],
      "execution_count": null,
      "outputs": [
        {
          "output_type": "stream",
          "text": [
            "Collecting pyspark\n",
            "\u001b[?25l  Downloading https://files.pythonhosted.org/packages/45/b0/9d6860891ab14a39d4bddf80ba26ce51c2f9dc4805e5c6978ac0472c120a/pyspark-3.1.1.tar.gz (212.3MB)\n",
            "\u001b[K     |████████████████████████████████| 212.3MB 70kB/s \n",
            "\u001b[?25hCollecting py4j==0.10.9\n",
            "\u001b[?25l  Downloading https://files.pythonhosted.org/packages/9e/b6/6a4fb90cd235dc8e265a6a2067f2a2c99f0d91787f06aca4bcf7c23f3f80/py4j-0.10.9-py2.py3-none-any.whl (198kB)\n",
            "\u001b[K     |████████████████████████████████| 204kB 41.6MB/s \n",
            "\u001b[?25hBuilding wheels for collected packages: pyspark\n",
            "  Building wheel for pyspark (setup.py) ... \u001b[?25l\u001b[?25hdone\n",
            "  Created wheel for pyspark: filename=pyspark-3.1.1-py2.py3-none-any.whl size=212767604 sha256=f8607ecad39c31e9305dbabe56c8604756aaeaffbb5a024997de7231826a6d00\n",
            "  Stored in directory: /root/.cache/pip/wheels/0b/90/c0/01de724414ef122bd05f056541fb6a0ecf47c7ca655f8b3c0f\n",
            "Successfully built pyspark\n",
            "Installing collected packages: py4j, pyspark\n",
            "Successfully installed py4j-0.10.9 pyspark-3.1.1\n"
          ],
          "name": "stdout"
        }
      ]
    },
    {
      "cell_type": "markdown",
      "metadata": {
        "id": "AhkyaEUtvsbA"
      },
      "source": [
        "# Bibliotecas"
      ]
    },
    {
      "cell_type": "code",
      "metadata": {
        "id": "dGLvImw3mrzH"
      },
      "source": [
        "from google.colab import drive\n",
        "from pyspark.sql import SparkSession\n",
        "from pyspark.sql import functions as F"
      ],
      "execution_count": null,
      "outputs": []
    },
    {
      "cell_type": "code",
      "metadata": {
        "colab": {
          "base_uri": "https://localhost:8080/"
        },
        "id": "rPJuyQF7rWvr",
        "outputId": "6c70e534-848c-4520-fdde-bc1f4618277b"
      },
      "source": [
        "drive.mount('/content/drive')"
      ],
      "execution_count": null,
      "outputs": [
        {
          "output_type": "stream",
          "text": [
            "Mounted at /content/drive\n"
          ],
          "name": "stdout"
        }
      ]
    },
    {
      "cell_type": "markdown",
      "metadata": {
        "id": "hnL6O3qVvv5F"
      },
      "source": [
        "# Criando sessão no spark"
      ]
    },
    {
      "cell_type": "code",
      "metadata": {
        "id": "6lvQ7UN8siVe"
      },
      "source": [
        "## Criando sessão\n",
        "spark = SparkSession.builder.appName(\"NBO\").getOrCreate()"
      ],
      "execution_count": null,
      "outputs": []
    },
    {
      "cell_type": "markdown",
      "metadata": {
        "id": "fvCiXWSIvylN"
      },
      "source": [
        "# Leitura de dados"
      ]
    },
    {
      "cell_type": "code",
      "metadata": {
        "id": "kg9v66lfreJH"
      },
      "source": [
        "## Leitura de csv \n",
        "df = spark.read.csv('/content/drive/My Drive/Datasets/marketing_campaign.csv', sep = \";\", header=True)"
      ],
      "execution_count": null,
      "outputs": []
    },
    {
      "cell_type": "markdown",
      "metadata": {
        "id": "s1gyHSqQwjJC"
      },
      "source": [
        "# Informações sobre a base de dados\n",
        "\n",
        "- AcceptedCmp1 - 1 if customer accepted the offer in the 1st campaign, 0 otherwise\n",
        "- AcceptedCmp2 - 1 if customer accepted the offer in the 2nd campaign, 0 otherwise\n",
        "- AcceptedCmp3 - 1 if customer accepted the offer in the 3rd campaign, 0 - otherwise\n",
        "- AcceptedCmp4 - 1 if customer accepted the offer in the 4th campaign, 0 otherwise\n",
        "- AcceptedCmp5 - 1 if customer accepted the offer in the 5th campaign, 0 otherwise\n",
        "- Response (target) - 1 if customer accepted the offer in the last campaign, 0 otherwise\n",
        "- Complain - 1 if customer complained in the last 2 years\n",
        "- DtCustomer - date of customer’s enrolment with the company\n",
        "- Education - customer’s level of education\n",
        "- Marital - customer’s marital status\n",
        "- Kidhome - number of small children in customer’s household\n",
        "- Teenhome - number of teenagers in customer’s household\n",
        "- Income - customer’s yearly household income\n",
        "- MntFishProducts - amount spent on fish products in the last 2 years\n",
        "- MntMeatProducts - amount spent on meat products in the last 2 years\n",
        "- MntFruits - amount spent on fruits products in the last 2 years\n",
        "- MntSweetProducts - amount spent on sweet products in the last 2 years\n",
        "- MntWines - amount spent on wine products in the last 2 years\n",
        "- MntGoldProds - amount spent on gold products in the last 2 years\n",
        "- NumDealsPurchases - number of purchases made with discount\n",
        "- NumCatalogPurchases - number of purchases made using catalogue\n",
        "- NumStorePurchases - number of purchases made directly in stores\n",
        "- NumWebPurchases - number of purchases made through company’s web site\n",
        "- NumWebVisitsMonth - number of visits to company’s web site in the last month\n",
        "- Recency - number of days since the last purchase"
      ]
    },
    {
      "cell_type": "markdown",
      "metadata": {
        "id": "Lcq7iAlMv9zf"
      },
      "source": [
        "# Exploração dos dados"
      ]
    }
  ]
}