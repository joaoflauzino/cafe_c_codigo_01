{
  "nbformat": 4,
  "nbformat_minor": 0,
  "metadata": {
    "colab": {
      "name": "cafe_c_codigo_01.ipynb",
      "provenance": [],
      "authorship_tag": "ABX9TyN1YrdMvoZTJ/1A56rweGFw",
      "include_colab_link": true
    },
    "kernelspec": {
      "name": "python3",
      "display_name": "Python 3"
    },
    "language_info": {
      "name": "python"
    }
  },
  "cells": [
    {
      "cell_type": "markdown",
      "metadata": {
        "id": "view-in-github",
        "colab_type": "text"
      },
      "source": [
        "<a href=\"https://colab.research.google.com/github/joaoflauzino/cafe_c_codigo_01/blob/main/cafe_c_codigo_01.ipynb\" target=\"_parent\"><img src=\"https://colab.research.google.com/assets/colab-badge.svg\" alt=\"Open In Colab\"/></a>"
      ]
    },
    {
      "cell_type": "code",
      "metadata": {
        "colab": {
          "base_uri": "https://localhost:8080/"
        },
        "id": "adIbO6oOrwJ_",
        "outputId": "98a0d4d1-e474-4f91-d177-dcdb2068e56e"
      },
      "source": [
        "!pip install pyspark"
      ],
      "execution_count": null,
      "outputs": [
        {
          "output_type": "stream",
          "text": [
            "Collecting pyspark\n",
            "\u001b[?25l  Downloading https://files.pythonhosted.org/packages/45/b0/9d6860891ab14a39d4bddf80ba26ce51c2f9dc4805e5c6978ac0472c120a/pyspark-3.1.1.tar.gz (212.3MB)\n",
            "\u001b[K     |████████████████████████████████| 212.3MB 70kB/s \n",
            "\u001b[?25hCollecting py4j==0.10.9\n",
            "\u001b[?25l  Downloading https://files.pythonhosted.org/packages/9e/b6/6a4fb90cd235dc8e265a6a2067f2a2c99f0d91787f06aca4bcf7c23f3f80/py4j-0.10.9-py2.py3-none-any.whl (198kB)\n",
            "\u001b[K     |████████████████████████████████| 204kB 41.6MB/s \n",
            "\u001b[?25hBuilding wheels for collected packages: pyspark\n",
            "  Building wheel for pyspark (setup.py) ... \u001b[?25l\u001b[?25hdone\n",
            "  Created wheel for pyspark: filename=pyspark-3.1.1-py2.py3-none-any.whl size=212767604 sha256=f8607ecad39c31e9305dbabe56c8604756aaeaffbb5a024997de7231826a6d00\n",
            "  Stored in directory: /root/.cache/pip/wheels/0b/90/c0/01de724414ef122bd05f056541fb6a0ecf47c7ca655f8b3c0f\n",
            "Successfully built pyspark\n",
            "Installing collected packages: py4j, pyspark\n",
            "Successfully installed py4j-0.10.9 pyspark-3.1.1\n"
          ],
          "name": "stdout"
        }
      ]
    },
    {
      "cell_type": "markdown",
      "metadata": {
        "id": "AhkyaEUtvsbA"
      },
      "source": [
        "# Bibliotecas"
      ]
    },
    {
      "cell_type": "code",
      "metadata": {
        "id": "dGLvImw3mrzH"
      },
      "source": [
        "from google.colab import drive\n",
        "from pyspark.sql import SparkSession\n",
        "from pyspark.sql import functions as F"
      ],
      "execution_count": null,
      "outputs": []
    },
    {
      "cell_type": "code",
      "metadata": {
        "colab": {
          "base_uri": "https://localhost:8080/"
        },
        "id": "rPJuyQF7rWvr",
        "outputId": "6c70e534-848c-4520-fdde-bc1f4618277b"
      },
      "source": [
        "drive.mount('/content/drive')"
      ],
      "execution_count": null,
      "outputs": [
        {
          "output_type": "stream",
          "text": [
            "Mounted at /content/drive\n"
          ],
          "name": "stdout"
        }
      ]
    },
    {
      "cell_type": "markdown",
      "metadata": {
        "id": "hnL6O3qVvv5F"
      },
      "source": [
        "# Criando sessão no spark"
      ]
    },
    {
      "cell_type": "code",
      "metadata": {
        "id": "6lvQ7UN8siVe"
      },
      "source": [
        "## Criando sessão\n",
        "spark = SparkSession.builder.appName(\"NBO\").getOrCreate()"
      ],
      "execution_count": null,
      "outputs": []
    },
    {
      "cell_type": "markdown",
      "metadata": {
        "id": "fvCiXWSIvylN"
      },
      "source": [
        "# Leitura de dados"
      ]
    },
    {
      "cell_type": "code",
      "metadata": {
        "id": "kg9v66lfreJH"
      },
      "source": [
        "## Leitura de csv \n",
        "df = spark.read.csv('/content/drive/My Drive/Datasets/marketing_campaign.csv', sep = \";\", header=True)"
      ],
      "execution_count": null,
      "outputs": []
    },
    {
      "cell_type": "markdown",
      "metadata": {
        "id": "s1gyHSqQwjJC"
      },
      "source": [
        "# Informações sobre a base de dados\n",
        "\n",
        "- AcceptedCmp1 - 1 if customer accepted the offer in the 1st campaign, 0 otherwise\n",
        "- AcceptedCmp2 - 1 if customer accepted the offer in the 2nd campaign, 0 otherwise\n",
        "- AcceptedCmp3 - 1 if customer accepted the offer in the 3rd campaign, 0 - otherwise\n",
        "- AcceptedCmp4 - 1 if customer accepted the offer in the 4th campaign, 0 otherwise\n",
        "- AcceptedCmp5 - 1 if customer accepted the offer in the 5th campaign, 0 otherwise\n",
        "- Response (target) - 1 if customer accepted the offer in the last campaign, 0 otherwise\n",
        "- Complain - 1 if customer complained in the last 2 years\n",
        "- DtCustomer - date of customer’s enrolment with the company\n",
        "- Education - customer’s level of education\n",
        "- Marital - customer’s marital status\n",
        "- Kidhome - number of small children in customer’s household\n",
        "- Teenhome - number of teenagers in customer’s household\n",
        "- Income - customer’s yearly household income\n",
        "- MntFishProducts - amount spent on fish products in the last 2 years\n",
        "- MntMeatProducts - amount spent on meat products in the last 2 years\n",
        "- MntFruits - amount spent on fruits products in the last 2 years\n",
        "- MntSweetProducts - amount spent on sweet products in the last 2 years\n",
        "- MntWines - amount spent on wine products in the last 2 years\n",
        "- MntGoldProds - amount spent on gold products in the last 2 years\n",
        "- NumDealsPurchases - number of purchases made with discount\n",
        "- NumCatalogPurchases - number of purchases made using catalogue\n",
        "- NumStorePurchases - number of purchases made directly in stores\n",
        "- NumWebPurchases - number of purchases made through company’s web site\n",
        "- NumWebVisitsMonth - number of visits to company’s web site in the last month\n",
        "- Recency - number of days since the last purchase"
      ]
    },
    {
      "cell_type": "markdown",
      "metadata": {
        "id": "Lcq7iAlMv9zf"
      },
      "source": [
        "\n",
        "\n",
        "```\n",
        "# This is formatted as code\n",
        "```\n",
        "\n",
        "# Perguntas sobre o negócio\n",
        "\n",
        "- Daqueles que são propensos a aceitar o produto, qual o nível de graduação mais presente? O nível de graduação difere daqueles que aceitam ou não uma oferta?\n",
        "\n",
        "- Daqueles que são propensos a aceitar o produto, qual o Estado Civil mais presente? O Estado Civil difere daqueles que aceitam ou não uma oferta?\n",
        "\n",
        "- Quanto mais recente, maior a chance dele aceitar a oferta?\n",
        "\n",
        "- Quanto maior a renda, maior a chance dele aceitar a oferta?\n",
        "\n",
        "- Existe alguma correlação entre renda e recência?\n",
        "\n",
        "- Pessoas mais velhas tendem a aceitar/recusar as ofertas? (criar campo com idade em anos)\n",
        "\n",
        "- A plataforma que o produto é oferecido impacta na aceitação das ofertas?\n",
        "\n",
        "- O número de crianças impacta na aceitação de ofertas?\n",
        "\n",
        "- O número de adolescentes impacta na aceitação de ofertas?\n",
        "- As campanhas são cumulativas ou independentes? Se for cumulativas, esses clientes reclamaram alguma vez nos últimos 2 anos?\n",
        "\n",
        "- Clientes mais antigos tendem a aceitar as ofertas? (criar campo com idade em anos)\n",
        "\n",
        "- Visitas no site da empresa tem correlação com a aceita/recusa das ofertas?\n"
      ]
    },
    {
      "cell_type": "code",
      "metadata": {
        "colab": {
          "base_uri": "https://localhost:8080/"
        },
        "id": "DpxZewLKzs3v",
        "outputId": "da1c6413-3d06-441c-cd52-8eb7a862b533"
      },
      "source": [
        "df.show()"
      ],
      "execution_count": 24,
      "outputs": [
        {
          "output_type": "stream",
          "text": [
            "+----+----------+----------+--------------+------+-------+--------+-----------+-------+--------+---------+---------------+---------------+----------------+------------+-----------------+---------------+-------------------+-----------------+-----------------+------------+------------+------------+------------+------------+--------+-------------+---------+--------+----+\n",
            "|  ID|Year_Birth| Education|Marital_Status|Income|Kidhome|Teenhome|Dt_Customer|Recency|MntWines|MntFruits|MntMeatProducts|MntFishProducts|MntSweetProducts|MntGoldProds|NumDealsPurchases|NumWebPurchases|NumCatalogPurchases|NumStorePurchases|NumWebVisitsMonth|AcceptedCmp3|AcceptedCmp4|AcceptedCmp5|AcceptedCmp1|AcceptedCmp2|Complain|Z_CostContact|Z_Revenue|Response|FLAG|\n",
            "+----+----------+----------+--------------+------+-------+--------+-----------+-------+--------+---------+---------------+---------------+----------------+------------+-----------------+---------------+-------------------+-----------------+-----------------+------------+------------+------------+------------+------------+--------+-------------+---------+--------+----+\n",
            "|5524|      1957|Graduation|        Single| 58138|      0|       0| 2012-09-04|     58|     635|       88|            546|            172|              88|          88|                3|              8|                 10|                4|                7|           0|           0|           0|           0|           0|       0|            3|       11|       1|   1|\n",
            "|2174|      1954|Graduation|        Single| 46344|      1|       1| 2014-03-08|     38|      11|        1|              6|              2|               1|           6|                2|              1|                  1|                2|                5|           0|           0|           0|           0|           0|       0|            3|       11|       0|   1|\n",
            "|4141|      1965|Graduation|      Together| 71613|      0|       0| 2013-08-21|     26|     426|       49|            127|            111|              21|          42|                1|              8|                  2|               10|                4|           0|           0|           0|           0|           0|       0|            3|       11|       0|   1|\n",
            "|6182|      1984|Graduation|      Together| 26646|      1|       0| 2014-02-10|     26|      11|        4|             20|             10|               3|           5|                2|              2|                  0|                4|                6|           0|           0|           0|           0|           0|       0|            3|       11|       0|   1|\n",
            "|5324|      1981|       PhD|       Married| 58293|      1|       0| 2014-01-19|     94|     173|       43|            118|             46|              27|          15|                5|              5|                  3|                6|                5|           0|           0|           0|           0|           0|       0|            3|       11|       0|   0|\n",
            "|7446|      1967|    Master|      Together| 62513|      0|       1| 2013-09-09|     16|     520|       42|             98|              0|              42|          14|                2|              6|                  4|               10|                6|           0|           0|           0|           0|           0|       0|            3|       11|       0|   0|\n",
            "| 965|      1971|Graduation|      Divorced| 55635|      0|       1| 2012-11-13|     34|     235|       65|            164|             50|              49|          27|                4|              7|                  3|                7|                6|           0|           0|           0|           0|           0|       0|            3|       11|       0|   1|\n",
            "|6177|      1985|       PhD|       Married| 33454|      1|       0| 2013-05-08|     32|      76|       10|             56|              3|               1|          23|                2|              4|                  0|                4|                8|           0|           0|           0|           0|           0|       0|            3|       11|       0|   0|\n",
            "|4855|      1974|       PhD|      Together| 30351|      1|       0| 2013-06-06|     19|      14|        0|             24|              3|               3|           2|                1|              3|                  0|                2|                9|           0|           0|           0|           0|           0|       0|            3|       11|       1|   0|\n",
            "|5899|      1950|       PhD|      Together|  5648|      1|       1| 2014-03-13|     68|      28|        0|              6|              1|               1|          13|                1|              1|                  0|                0|               20|           1|           0|           0|           0|           0|       0|            3|       11|       0|   0|\n",
            "|1994|      1983|Graduation|       Married|  null|      1|       0| 2013-11-15|     11|       5|        5|              6|              0|               2|           1|                1|              1|                  0|                2|                7|           0|           0|           0|           0|           0|       0|            3|       11|       0|   1|\n",
            "| 387|      1976|     Basic|       Married|  7500|      0|       0| 2012-11-13|     59|       6|       16|             11|             11|               1|          16|                1|              2|                  0|                3|                8|           0|           0|           0|           0|           0|       0|            3|       11|       0|   0|\n",
            "|2125|      1959|Graduation|      Divorced| 63033|      0|       0| 2013-11-15|     82|     194|       61|            480|            225|             112|          30|                1|              3|                  4|                8|                2|           0|           0|           0|           0|           0|       0|            3|       11|       0|   1|\n",
            "|8180|      1952|    Master|      Divorced| 59354|      1|       1| 2013-11-15|     53|     233|        2|             53|              3|               5|          14|                3|              6|                  1|                5|                6|           0|           0|           0|           0|           0|       0|            3|       11|       0|   0|\n",
            "|2569|      1987|Graduation|       Married| 17323|      0|       0| 2012-10-10|     38|       3|       14|             17|              6|               1|           5|                1|              1|                  0|                3|                8|           0|           0|           0|           0|           0|       0|            3|       11|       0|   1|\n",
            "|2114|      1946|       PhD|        Single| 82800|      0|       0| 2012-11-24|     23|    1006|       22|            115|             59|              68|          45|                1|              7|                  6|               12|                3|           0|           0|           1|           1|           0|       0|            3|       11|       1|   0|\n",
            "|9736|      1980|Graduation|       Married| 41850|      1|       1| 2012-12-24|     51|      53|        5|             19|              2|              13|           4|                3|              3|                  0|                3|                8|           0|           0|           0|           0|           0|       0|            3|       11|       0|   1|\n",
            "|4939|      1946|Graduation|      Together| 37760|      0|       0| 2012-08-31|     20|      84|        5|             38|            150|              12|          28|                2|              4|                  1|                6|                7|           0|           0|           0|           0|           0|       0|            3|       11|       0|   1|\n",
            "|6565|      1949|    Master|       Married| 76995|      0|       1| 2013-03-28|     91|    1012|       80|            498|              0|              16|         176|                2|             11|                  4|                9|                5|           0|           0|           0|           1|           0|       0|            3|       11|       0|   0|\n",
            "|2278|      1985|  2n Cycle|        Single| 33812|      1|       0| 2012-11-03|     86|       4|       17|             19|             30|              24|          39|                2|              2|                  1|                3|                6|           0|           0|           0|           0|           0|       0|            3|       11|       0|   0|\n",
            "+----+----------+----------+--------------+------+-------+--------+-----------+-------+--------+---------+---------------+---------------+----------------+------------+-----------------+---------------+-------------------+-----------------+-----------------+------------+------------+------------+------------+------------+--------+-------------+---------+--------+----+\n",
            "only showing top 20 rows\n",
            "\n"
          ],
          "name": "stdout"
        }
      ]
    },
    {
      "cell_type": "markdown",
      "metadata": {
        "id": "1B0xYGXU3v42"
      },
      "source": [
        "## Tratamento da base"
      ]
    }
  ]
}