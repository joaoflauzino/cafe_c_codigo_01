{
  "nbformat": 4,
  "nbformat_minor": 0,
  "metadata": {
    "colab": {
      "name": "cafe_c_codigo_01.ipynb",
      "provenance": [],
      "authorship_tag": "ABX9TyPvx/XITG7ku1nzBt/js2QO",
      "include_colab_link": true
    },
    "kernelspec": {
      "name": "python3",
      "display_name": "Python 3"
    },
    "language_info": {
      "name": "python"
    }
  },
  "cells": [
    {
      "cell_type": "markdown",
      "metadata": {
        "id": "view-in-github",
        "colab_type": "text"
      },
      "source": [
        "<a href=\"https://colab.research.google.com/github/joaoflauzino/cafe_c_codigo_01/blob/main/cafe_c_codigo_01.ipynb\" target=\"_parent\"><img src=\"https://colab.research.google.com/assets/colab-badge.svg\" alt=\"Open In Colab\"/></a>"
      ]
    },
    {
      "cell_type": "code",
      "metadata": {
        "colab": {
          "base_uri": "https://localhost:8080/"
        },
        "id": "adIbO6oOrwJ_",
        "outputId": "082603dd-a4e2-49f2-c4ca-1f2b82a67aa9"
      },
      "source": [
        "!pip install pyspark"
      ],
      "execution_count": 2,
      "outputs": [
        {
          "output_type": "stream",
          "text": [
            "Collecting pyspark\n",
            "\u001b[?25l  Downloading https://files.pythonhosted.org/packages/45/b0/9d6860891ab14a39d4bddf80ba26ce51c2f9dc4805e5c6978ac0472c120a/pyspark-3.1.1.tar.gz (212.3MB)\n",
            "\u001b[K     |████████████████████████████████| 212.3MB 64kB/s \n",
            "\u001b[?25hCollecting py4j==0.10.9\n",
            "\u001b[?25l  Downloading https://files.pythonhosted.org/packages/9e/b6/6a4fb90cd235dc8e265a6a2067f2a2c99f0d91787f06aca4bcf7c23f3f80/py4j-0.10.9-py2.py3-none-any.whl (198kB)\n",
            "\u001b[K     |████████████████████████████████| 204kB 14.9MB/s \n",
            "\u001b[?25hBuilding wheels for collected packages: pyspark\n",
            "  Building wheel for pyspark (setup.py) ... \u001b[?25l\u001b[?25hdone\n",
            "  Created wheel for pyspark: filename=pyspark-3.1.1-py2.py3-none-any.whl size=212767604 sha256=870531ebea83befe57418b84c645dbee0c60aef390643f7de2794060f04fa5d4\n",
            "  Stored in directory: /root/.cache/pip/wheels/0b/90/c0/01de724414ef122bd05f056541fb6a0ecf47c7ca655f8b3c0f\n",
            "Successfully built pyspark\n",
            "Installing collected packages: py4j, pyspark\n",
            "Successfully installed py4j-0.10.9 pyspark-3.1.1\n"
          ],
          "name": "stdout"
        }
      ]
    },
    {
      "cell_type": "markdown",
      "metadata": {
        "id": "AhkyaEUtvsbA"
      },
      "source": [
        "# Bibliotecas"
      ]
    },
    {
      "cell_type": "code",
      "metadata": {
        "id": "dGLvImw3mrzH"
      },
      "source": [
        "from google.colab import drive\n",
        "from pyspark.sql import SparkSession\n",
        "from pyspark.sql import functions as F\n",
        "import seaborn as sns\n",
        "import matplotlib.pyplot as plt"
      ],
      "execution_count": 56,
      "outputs": []
    },
    {
      "cell_type": "code",
      "metadata": {
        "colab": {
          "base_uri": "https://localhost:8080/"
        },
        "id": "rPJuyQF7rWvr",
        "outputId": "f7dfe3ea-af94-472b-d2ef-6a2d67efe6bb"
      },
      "source": [
        "drive.mount('/content/drive')"
      ],
      "execution_count": 4,
      "outputs": [
        {
          "output_type": "stream",
          "text": [
            "Mounted at /content/drive\n"
          ],
          "name": "stdout"
        }
      ]
    },
    {
      "cell_type": "markdown",
      "metadata": {
        "id": "hnL6O3qVvv5F"
      },
      "source": [
        "# Criando sessão no spark"
      ]
    },
    {
      "cell_type": "code",
      "metadata": {
        "id": "6lvQ7UN8siVe"
      },
      "source": [
        "## Criando sessão\n",
        "spark = SparkSession.builder.appName(\"NBO\").getOrCreate()"
      ],
      "execution_count": 5,
      "outputs": []
    },
    {
      "cell_type": "markdown",
      "metadata": {
        "id": "fvCiXWSIvylN"
      },
      "source": [
        "# Leitura de dados"
      ]
    },
    {
      "cell_type": "code",
      "metadata": {
        "id": "kg9v66lfreJH"
      },
      "source": [
        "## Leitura de csv \n",
        "df = spark.read.csv('/content/drive/My Drive/Datasets/marketing_campaign.csv', sep = \";\", header=True)"
      ],
      "execution_count": 6,
      "outputs": []
    },
    {
      "cell_type": "markdown",
      "metadata": {
        "id": "s1gyHSqQwjJC"
      },
      "source": [
        "# Informações sobre a base de dados\n",
        "\n",
        "- AcceptedCmp1 - 1 if customer accepted the offer in the 1st campaign, 0 otherwise\n",
        "- AcceptedCmp2 - 1 if customer accepted the offer in the 2nd campaign, 0 otherwise\n",
        "- AcceptedCmp3 - 1 if customer accepted the offer in the 3rd campaign, 0 - otherwise\n",
        "- AcceptedCmp4 - 1 if customer accepted the offer in the 4th campaign, 0 otherwise\n",
        "- AcceptedCmp5 - 1 if customer accepted the offer in the 5th campaign, 0 otherwise\n",
        "- Response (target) - 1 if customer accepted the offer in the last campaign, 0 otherwise\n",
        "- Complain - 1 if customer complained in the last 2 years\n",
        "- DtCustomer - date of customer’s enrolment with the company\n",
        "- Education - customer’s level of education\n",
        "- Marital - customer’s marital status\n",
        "- Kidhome - number of small children in customer’s household\n",
        "- Teenhome - number of teenagers in customer’s household\n",
        "- Income - customer’s yearly household income\n",
        "- MntFishProducts - amount spent on fish products in the last 2 years\n",
        "- MntMeatProducts - amount spent on meat products in the last 2 years\n",
        "- MntFruits - amount spent on fruits products in the last 2 years\n",
        "- MntSweetProducts - amount spent on sweet products in the last 2 years\n",
        "- MntWines - amount spent on wine products in the last 2 years\n",
        "- MntGoldProds - amount spent on gold products in the last 2 years\n",
        "- NumDealsPurchases - number of purchases made with discount\n",
        "- NumCatalogPurchases - number of purchases made using catalogue\n",
        "- NumStorePurchases - number of purchases made directly in stores\n",
        "- NumWebPurchases - number of purchases made through company’s web site\n",
        "- NumWebVisitsMonth - number of visits to company’s web site in the last month\n",
        "- Recency - number of days since the last purchase"
      ]
    },
    {
      "cell_type": "markdown",
      "metadata": {
        "id": "Lcq7iAlMv9zf"
      },
      "source": [
        "# Perguntas sobre o negócio\n",
        "\n",
        "- Daqueles que são propensos a aceitar o produto, qual o nível de graduação mais presente? O nível de graduação difere daqueles que aceitam ou não uma oferta?\n",
        "\n",
        "- Daqueles que são propensos a aceitar o produto, qual o Estado Civil mais presente? O Estado Civil difere daqueles que aceitam ou não uma oferta?\n",
        "\n",
        "- Quanto mais recente, maior a chance dele aceitar a oferta?\n",
        "\n",
        "- Quanto maior a renda, maior a chance dele aceitar a oferta?\n",
        "\n",
        "- Existe alguma correlação entre renda e recência?\n",
        "\n",
        "- Pessoas mais velhas tendem a aceitar/recusar as ofertas? (criar campo com idade em anos)\n",
        "\n",
        "- A plataforma que o produto é oferecido impacta na aceitação das ofertas?\n",
        "\n",
        "- O número de crianças impacta na aceitação de ofertas?\n",
        "\n",
        "- O número de adolescentes impacta na aceitação de ofertas?\n",
        "- As campanhas são cumulativas ou independentes? Se for cumulativas, esses clientes reclamaram alguma vez nos últimos 2 anos?\n",
        "\n",
        "- Clientes mais antigos tendem a aceitar as ofertas? (criar campo com idade em anos)\n",
        "\n",
        "- Visitas no site da empresa tem correlação com a aceita/recusa das ofertas?\n",
        "\n",
        "- O número de compras realizada com desconto tem correlação com a aceita/recusa das ofertas?\n",
        "\n",
        "- A quantia gasta em produtos do tipo GOLD nos últimos 2 anos tem correlação em aceitar/recusar as ofertas?\n",
        "\n",
        "- Os clientes estão propensos de aceitar as ofertas em qual nível da campanha (1ª a 5ª)?\n",
        "\n",
        "- Nossas variaveis possuem distribuicao normal?\n",
        "\n",
        "- Existem outliers no nosso conjunto de dados?\n"
      ]
    },
    {
      "cell_type": "code",
      "metadata": {
        "colab": {
          "base_uri": "https://localhost:8080/"
        },
        "id": "DpxZewLKzs3v",
        "outputId": "45d17a60-b75d-4370-e344-2195680e609a"
      },
      "source": [
        "df.show(1, vertical = True)"
      ],
      "execution_count": 7,
      "outputs": [
        {
          "output_type": "stream",
          "text": [
            "-RECORD 0-------------------------\n",
            " ID                  | 5524       \n",
            " Year_Birth          | 1957       \n",
            " Education           | Graduation \n",
            " Marital_Status      | Single     \n",
            " Income              | 58138      \n",
            " Kidhome             | 0          \n",
            " Teenhome            | 0          \n",
            " Dt_Customer         | 2012-09-04 \n",
            " Recency             | 58         \n",
            " MntWines            | 635        \n",
            " MntFruits           | 88         \n",
            " MntMeatProducts     | 546        \n",
            " MntFishProducts     | 172        \n",
            " MntSweetProducts    | 88         \n",
            " MntGoldProds        | 88         \n",
            " NumDealsPurchases   | 3          \n",
            " NumWebPurchases     | 8          \n",
            " NumCatalogPurchases | 10         \n",
            " NumStorePurchases   | 4          \n",
            " NumWebVisitsMonth   | 7          \n",
            " AcceptedCmp3        | 0          \n",
            " AcceptedCmp4        | 0          \n",
            " AcceptedCmp5        | 0          \n",
            " AcceptedCmp1        | 0          \n",
            " AcceptedCmp2        | 0          \n",
            " Complain            | 0          \n",
            " Z_CostContact       | 3          \n",
            " Z_Revenue           | 11         \n",
            " Response            | 1          \n",
            "only showing top 1 row\n",
            "\n"
          ],
          "name": "stdout"
        }
      ]
    },
    {
      "cell_type": "markdown",
      "metadata": {
        "id": "1B0xYGXU3v42"
      },
      "source": [
        "# Tratamento da base"
      ]
    },
    {
      "cell_type": "code",
      "metadata": {
        "colab": {
          "base_uri": "https://localhost:8080/"
        },
        "id": "UjLyQPy-FznW",
        "outputId": "b9af8f00-11f4-4ecc-f91e-f093206d8a87"
      },
      "source": [
        "df.count()"
      ],
      "execution_count": 9,
      "outputs": [
        {
          "output_type": "execute_result",
          "data": {
            "text/plain": [
              "2240"
            ]
          },
          "metadata": {
            "tags": []
          },
          "execution_count": 9
        }
      ]
    },
    {
      "cell_type": "markdown",
      "metadata": {
        "id": "Yd6LbDSmFBgJ"
      },
      "source": [
        "# Verificar valores nulos"
      ]
    },
    {
      "cell_type": "code",
      "metadata": {
        "colab": {
          "base_uri": "https://localhost:8080/"
        },
        "id": "kVyweB4kE_9v",
        "outputId": "61897dbb-e0db-404c-ea89-cef8f864dd2d"
      },
      "source": [
        "df.select(*(F.sum(F.col(c).isNull().cast(\"int\")).alias(c) for c in df.columns)).show(vertical = True)"
      ],
      "execution_count": 8,
      "outputs": [
        {
          "output_type": "stream",
          "text": [
            "-RECORD 0------------------\n",
            " ID                  | 0   \n",
            " Year_Birth          | 0   \n",
            " Education           | 0   \n",
            " Marital_Status      | 0   \n",
            " Income              | 24  \n",
            " Kidhome             | 0   \n",
            " Teenhome            | 0   \n",
            " Dt_Customer         | 0   \n",
            " Recency             | 0   \n",
            " MntWines            | 0   \n",
            " MntFruits           | 0   \n",
            " MntMeatProducts     | 0   \n",
            " MntFishProducts     | 0   \n",
            " MntSweetProducts    | 0   \n",
            " MntGoldProds        | 0   \n",
            " NumDealsPurchases   | 0   \n",
            " NumWebPurchases     | 0   \n",
            " NumCatalogPurchases | 0   \n",
            " NumStorePurchases   | 0   \n",
            " NumWebVisitsMonth   | 0   \n",
            " AcceptedCmp3        | 0   \n",
            " AcceptedCmp4        | 0   \n",
            " AcceptedCmp5        | 0   \n",
            " AcceptedCmp1        | 0   \n",
            " AcceptedCmp2        | 0   \n",
            " Complain            | 0   \n",
            " Z_CostContact       | 0   \n",
            " Z_Revenue           | 0   \n",
            " Response            | 0   \n",
            "\n"
          ],
          "name": "stdout"
        }
      ]
    },
    {
      "cell_type": "markdown",
      "metadata": {
        "id": "KGck0rQEGjmp"
      },
      "source": [
        "- Como são apenas 24 registros e existe um desvio padrão bastante significativo, a abordagem escolhida será excluir esses registros do dataset."
      ]
    },
    {
      "cell_type": "code",
      "metadata": {
        "colab": {
          "base_uri": "https://localhost:8080/"
        },
        "id": "OYQGWvzwF7VN",
        "outputId": "d76c1629-a1e9-4963-9b77-09409bfe1b23"
      },
      "source": [
        "df.select('Income').summary().show(vertical = True)"
      ],
      "execution_count": 11,
      "outputs": [
        {
          "output_type": "stream",
          "text": [
            "-RECORD 0---------------------\n",
            " summary | count              \n",
            " Income  | 2216               \n",
            "-RECORD 1---------------------\n",
            " summary | mean               \n",
            " Income  | 52247.25135379061  \n",
            "-RECORD 2---------------------\n",
            " summary | stddev             \n",
            " Income  | 25173.076660901414 \n",
            "-RECORD 3---------------------\n",
            " summary | min                \n",
            " Income  | 101970             \n",
            "-RECORD 4---------------------\n",
            " summary | 25%                \n",
            " Income  | 35246.0            \n",
            "-RECORD 5---------------------\n",
            " summary | 50%                \n",
            " Income  | 51373.0            \n",
            "-RECORD 6---------------------\n",
            " summary | 75%                \n",
            " Income  | 68487.0            \n",
            "-RECORD 7---------------------\n",
            " summary | max                \n",
            " Income  | 98777              \n",
            "\n"
          ],
          "name": "stdout"
        }
      ]
    },
    {
      "cell_type": "code",
      "metadata": {
        "id": "QFAR2Eh0G2tM"
      },
      "source": [
        "df = df.na.drop()"
      ],
      "execution_count": 14,
      "outputs": []
    },
    {
      "cell_type": "code",
      "metadata": {
        "colab": {
          "base_uri": "https://localhost:8080/"
        },
        "id": "hu8frlGHHW4w",
        "outputId": "b7d5659f-9925-4f38-8528-3679faae3468"
      },
      "source": [
        "df.count()"
      ],
      "execution_count": 15,
      "outputs": [
        {
          "output_type": "execute_result",
          "data": {
            "text/plain": [
              "2216"
            ]
          },
          "metadata": {
            "tags": []
          },
          "execution_count": 15
        }
      ]
    },
    {
      "cell_type": "markdown",
      "metadata": {
        "id": "xy4ghPuA4WzM"
      },
      "source": [
        "# Análise Exploratória\n",
        "\n",
        "1. Daqueles que são propensos a aceitar o produto, qual o nível de graduação mais presente? O nível de graduação difere daqueles que aceitam ou não uma oferta?"
      ]
    },
    {
      "cell_type": "code",
      "metadata": {
        "colab": {
          "base_uri": "https://localhost:8080/"
        },
        "id": "VfOieWOMHk31",
        "outputId": "85c8b6f6-0d7c-4b80-8199-6dd1483e9494"
      },
      "source": [
        "df.select('AcceptedCmp1', 'AcceptedCmp2', 'AcceptedCmp3', 'AcceptedCmp4', 'AcceptedCmp5', 'Response').groupBy('Response').count().show()"
      ],
      "execution_count": 19,
      "outputs": [
        {
          "output_type": "stream",
          "text": [
            "+--------+-----+\n",
            "|Response|count|\n",
            "+--------+-----+\n",
            "|       0| 1883|\n",
            "|       1|  333|\n",
            "+--------+-----+\n",
            "\n"
          ],
          "name": "stdout"
        }
      ]
    },
    {
      "cell_type": "code",
      "metadata": {
        "colab": {
          "base_uri": "https://localhost:8080/"
        },
        "id": "TdGRXJqVI-0Z",
        "outputId": "ef3a9c20-a5d4-4fd9-cd72-459ec1ee7b80"
      },
      "source": [
        "df.filter( (df.AcceptedCmp1 == 0)  &  (df.AcceptedCmp2 == 0) & (df.AcceptedCmp3 == 0) & (df.AcceptedCmp4 == 0) & (df.AcceptedCmp5 == 0) & (df.Response == 1) ).count()"
      ],
      "execution_count": 23,
      "outputs": [
        {
          "output_type": "execute_result",
          "data": {
            "text/plain": [
              "146"
            ]
          },
          "metadata": {
            "tags": []
          },
          "execution_count": 23
        }
      ]
    },
    {
      "cell_type": "markdown",
      "metadata": {
        "id": "0akIdB5NKlqM"
      },
      "source": [
        "* Vamos criar nossa própria target, já que não estamos vendo muito sentido na coluna Response"
      ]
    },
    {
      "cell_type": "code",
      "metadata": {
        "id": "Ez_yx8jaLJit"
      },
      "source": [
        "df = df.withColumn('Target', \n",
        "                        F.when(\n",
        "                            (df.AcceptedCmp1 > 0) | (df.AcceptedCmp2 > 0) | (df.AcceptedCmp3 > 0) | (df.AcceptedCmp4 > 0) | (df.AcceptedCmp5 > 0) , 1\n",
        "                        ).otherwise(0)\n",
        "                   )"
      ],
      "execution_count": 25,
      "outputs": []
    },
    {
      "cell_type": "code",
      "metadata": {
        "id": "-kEjeZXiL4uV",
        "outputId": "c682b1be-b8fc-437e-bddc-5578b58a01ea",
        "colab": {
          "base_uri": "https://localhost:8080/"
        }
      },
      "source": [
        "df.filter(df.Target == 1).select('AcceptedCmp1', 'AcceptedCmp2', 'AcceptedCmp3', 'AcceptedCmp4', 'AcceptedCmp5', 'Target').show()"
      ],
      "execution_count": 29,
      "outputs": [
        {
          "output_type": "stream",
          "text": [
            "+------------+------------+------------+------------+------------+------+\n",
            "|AcceptedCmp1|AcceptedCmp2|AcceptedCmp3|AcceptedCmp4|AcceptedCmp5|Target|\n",
            "+------------+------------+------------+------------+------------+------+\n",
            "|           0|           0|           1|           0|           0|     1|\n",
            "|           1|           0|           0|           0|           1|     1|\n",
            "|           1|           0|           0|           0|           0|     1|\n",
            "|           0|           0|           0|           1|           0|     1|\n",
            "|           0|           0|           0|           0|           1|     1|\n",
            "|           0|           0|           0|           1|           0|     1|\n",
            "|           0|           0|           1|           0|           0|     1|\n",
            "|           1|           0|           1|           0|           0|     1|\n",
            "|           0|           0|           0|           0|           1|     1|\n",
            "|           0|           0|           0|           1|           1|     1|\n",
            "|           1|           0|           1|           0|           0|     1|\n",
            "|           0|           0|           0|           1|           0|     1|\n",
            "|           0|           0|           1|           0|           0|     1|\n",
            "|           0|           0|           1|           0|           0|     1|\n",
            "|           0|           0|           0|           1|           0|     1|\n",
            "|           1|           0|           0|           1|           0|     1|\n",
            "|           0|           0|           0|           0|           1|     1|\n",
            "|           0|           0|           0|           1|           0|     1|\n",
            "|           1|           0|           0|           0|           0|     1|\n",
            "|           0|           0|           0|           1|           0|     1|\n",
            "+------------+------------+------------+------------+------------+------+\n",
            "only showing top 20 rows\n",
            "\n"
          ],
          "name": "stdout"
        }
      ]
    },
    {
      "cell_type": "code",
      "metadata": {
        "id": "Az2OoFZGMkNF",
        "outputId": "c920e759-7988-4453-830e-9858f7db3a59",
        "colab": {
          "base_uri": "https://localhost:8080/"
        }
      },
      "source": [
        "df.groupBy('Target').count().show()"
      ],
      "execution_count": 30,
      "outputs": [
        {
          "output_type": "stream",
          "text": [
            "+------+-----+\n",
            "|Target|count|\n",
            "+------+-----+\n",
            "|     1|  459|\n",
            "|     0| 1757|\n",
            "+------+-----+\n",
            "\n"
          ],
          "name": "stdout"
        }
      ]
    },
    {
      "cell_type": "code",
      "metadata": {
        "id": "bUNepmStMy9_"
      },
      "source": [
        "df_1_hipotese = df.groupBy('Education', 'Target').count().toPandas()"
      ],
      "execution_count": 43,
      "outputs": []
    },
    {
      "cell_type": "code",
      "metadata": {
        "id": "WNlbVLmJR5pF",
        "outputId": "91b9c7ee-00e1-4d01-da3c-ede605b1b8c2",
        "colab": {
          "base_uri": "https://localhost:8080/",
          "height": 195
        }
      },
      "source": [
        "df_1_hipotese.head()"
      ],
      "execution_count": 44,
      "outputs": [
        {
          "output_type": "execute_result",
          "data": {
            "text/html": [
              "<div>\n",
              "<style scoped>\n",
              "    .dataframe tbody tr th:only-of-type {\n",
              "        vertical-align: middle;\n",
              "    }\n",
              "\n",
              "    .dataframe tbody tr th {\n",
              "        vertical-align: top;\n",
              "    }\n",
              "\n",
              "    .dataframe thead th {\n",
              "        text-align: right;\n",
              "    }\n",
              "</style>\n",
              "<table border=\"1\" class=\"dataframe\">\n",
              "  <thead>\n",
              "    <tr style=\"text-align: right;\">\n",
              "      <th></th>\n",
              "      <th>Education</th>\n",
              "      <th>Target</th>\n",
              "      <th>count</th>\n",
              "    </tr>\n",
              "  </thead>\n",
              "  <tbody>\n",
              "    <tr>\n",
              "      <th>0</th>\n",
              "      <td>Basic</td>\n",
              "      <td>1</td>\n",
              "      <td>6</td>\n",
              "    </tr>\n",
              "    <tr>\n",
              "      <th>1</th>\n",
              "      <td>2n Cycle</td>\n",
              "      <td>0</td>\n",
              "      <td>163</td>\n",
              "    </tr>\n",
              "    <tr>\n",
              "      <th>2</th>\n",
              "      <td>Master</td>\n",
              "      <td>0</td>\n",
              "      <td>291</td>\n",
              "    </tr>\n",
              "    <tr>\n",
              "      <th>3</th>\n",
              "      <td>Graduation</td>\n",
              "      <td>1</td>\n",
              "      <td>228</td>\n",
              "    </tr>\n",
              "    <tr>\n",
              "      <th>4</th>\n",
              "      <td>Basic</td>\n",
              "      <td>0</td>\n",
              "      <td>48</td>\n",
              "    </tr>\n",
              "  </tbody>\n",
              "</table>\n",
              "</div>"
            ],
            "text/plain": [
              "    Education  Target  count\n",
              "0       Basic       1      6\n",
              "1    2n Cycle       0    163\n",
              "2      Master       0    291\n",
              "3  Graduation       1    228\n",
              "4       Basic       0     48"
            ]
          },
          "metadata": {
            "tags": []
          },
          "execution_count": 44
        }
      ]
    },
    {
      "cell_type": "code",
      "metadata": {
        "id": "pQZgBHqKPK4z",
        "outputId": "8e942252-39ad-4b33-c67c-19e4cc7bb6a5",
        "colab": {
          "base_uri": "https://localhost:8080/",
          "height": 296
        }
      },
      "source": [
        "plt.figure()\n",
        "\n",
        "sns.barplot(data = df_1_hipotese, x = 'Education', y = 'count', hue = 'Target')"
      ],
      "execution_count": 45,
      "outputs": [
        {
          "output_type": "execute_result",
          "data": {
            "text/plain": [
              "<matplotlib.axes._subplots.AxesSubplot at 0x7fb95d88a7d0>"
            ]
          },
          "metadata": {
            "tags": []
          },
          "execution_count": 45
        },
        {
          "output_type": "display_data",
          "data": {
            "image/png": "[encoded data removed]",
            "text/plain": [
              "<Figure size 432x288 with 1 Axes>"
            ]
          },
          "metadata": {
            "tags": [],
            "needs_background": "light"
          }
        }
      ]
    },
    {
      "cell_type": "markdown",
      "metadata": {
        "id": "zPPNwoFHSLgm"
      },
      "source": [
        "- A priori, não existe nenhuma divergência significativa (variável Education) na proporção daqueles que aceitaram ou recusaram uma oferta\n",
        "\n",
        "\n",
        "2. Daqueles que são propensos a aceitar o produto, qual o Estado Civil mais presente? O Estado Civil difere daqueles que aceitam ou não uma oferta?"
      ]
    },
    {
      "cell_type": "code",
      "metadata": {
        "id": "mjWezYgHShPY"
      },
      "source": [
        "df_2_hipotese = df.groupBy('Marital_Status', 'Target').count().toPandas()"
      ],
      "execution_count": 46,
      "outputs": []
    },
    {
      "cell_type": "code",
      "metadata": {
        "id": "0IWW4VWkS8TX",
        "outputId": "742cdf40-f22b-431d-fe17-22dc8313fe3b",
        "colab": {
          "base_uri": "https://localhost:8080/",
          "height": 298
        }
      },
      "source": [
        "sns.barplot(data = df_2_hipotese, x = 'Marital_Status', y = 'count', hue = 'Target')"
      ],
      "execution_count": 48,
      "outputs": [
        {
          "output_type": "execute_result",
          "data": {
            "text/plain": [
              "<matplotlib.axes._subplots.AxesSubplot at 0x7fb95c0dd690>"
            ]
          },
          "metadata": {
            "tags": []
          },
          "execution_count": 48
        },
        {
          "output_type": "display_data",
          "data": {
            "image/png": "[encoded data removed]",
            "text/plain": [
              "<Figure size 432x288 with 1 Axes>"
            ]
          },
          "metadata": {
            "tags": [],
            "needs_background": "light"
          }
        }
      ]
    },
    {
      "cell_type": "markdown",
      "metadata": {
        "id": "sXnQqlsbTGyl"
      },
      "source": [
        "- O Estado Civil também aparenta não conter uma diferença significativa para distinguir quem aceita ou recusa uma oferta\n",
        "\n",
        "3. Quanto mais recente, maior a chance dele aceitar a oferta?"
      ]
    },
    {
      "cell_type": "code",
      "metadata": {
        "id": "W0M5hFqkUwFn"
      },
      "source": [
        "df = df.withColumn('Age_Company', \n",
        "        F.floor(\n",
        "             F.datediff(F.current_date(), F.to_date(F.col('Dt_Customer'), 'yyyy-mm-dd')))\n",
        "              )"
      ],
      "execution_count": 62,
      "outputs": []
    },
    {
      "cell_type": "code",
      "metadata": {
        "id": "XafOjq5nW5-a",
        "outputId": "15167ad4-1d59-44a6-98bb-57cc2950c656",
        "colab": {
          "base_uri": "https://localhost:8080/"
        }
      },
      "source": [
        "df.select( F.max(F.col('Dt_Customer')), F.min(F.col('Dt_Customer')) ).show()"
      ],
      "execution_count": 69,
      "outputs": [
        {
          "output_type": "stream",
          "text": [
            "+----------------+----------------+\n",
            "|max(Dt_Customer)|min(Dt_Customer)|\n",
            "+----------------+----------------+\n",
            "|      2014-06-29|      2012-07-30|\n",
            "+----------------+----------------+\n",
            "\n"
          ],
          "name": "stdout"
        }
      ]
    },
    {
      "cell_type": "code",
      "metadata": {
        "id": "jrcjmHGQX3tV",
        "outputId": "3eaac35e-cd19-4ecb-f014-c01fb941ac61",
        "colab": {
          "base_uri": "https://localhost:8080/"
        }
      },
      "source": [
        "df.agg({\"Age_Company\": \"max\"}).show()"
      ],
      "execution_count": 72,
      "outputs": [
        {
          "output_type": "stream",
          "text": [
            "+----------------+\n",
            "|max(Age_Company)|\n",
            "+----------------+\n",
            "|            3421|\n",
            "+----------------+\n",
            "\n"
          ],
          "name": "stdout"
        }
      ]
    },
    {
      "cell_type": "code",
      "metadata": {
        "id": "75VuqzegXwQz",
        "outputId": "c27af68f-d80d-4694-8f52-03a12f6d3d9d",
        "colab": {
          "base_uri": "https://localhost:8080/"
        }
      },
      "source": [
        "df.agg({\"Age_Company\": \"min\"}).show()"
      ],
      "execution_count": 71,
      "outputs": [
        {
          "output_type": "stream",
          "text": [
            "+----------------+\n",
            "|min(Age_Company)|\n",
            "+----------------+\n",
            "|            2660|\n",
            "+----------------+\n",
            "\n"
          ],
          "name": "stdout"
        }
      ]
    },
    {
      "cell_type": "code",
      "metadata": {
        "id": "dSTqem9pVt4t"
      },
      "source": [
        "df_age_company = df.select('Target', 'Age_Company').toPandas()"
      ],
      "execution_count": 63,
      "outputs": []
    },
    {
      "cell_type": "markdown",
      "metadata": {
        "id": "iqaDjdWS4g6w"
      },
      "source": [
        "# Modelagem"
      ]
    },
    {
      "cell_type": "markdown",
      "metadata": {
        "id": "T_O1-qAe4qkw"
      },
      "source": [
        "# Avaliação do modelo"
      ]
    }
  ]
}